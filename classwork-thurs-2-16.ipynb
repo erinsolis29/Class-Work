{
 "cells": [
  {
   "cell_type": "code",
   "execution_count": 1,
   "metadata": {
    "collapsed": true
   },
   "outputs": [],
   "source": [
    "nature_birds = {}\n",
    "ff = open(\"/home/eeb177-student/Desktop/eeb-177/homework/formatted.birds.csv\", encoding = \"ISO-8859-15\")\n",
    "ss = ff.readlines()[1:]\n",
    "for line in ss:\n",
    "    sp = line.split(\",\")[0]\n",
    "    fam = line.split(\",\")[2]\n",
    "    nature_birds[sp] = fam\n",
    "ff.close()\n",
    "#original example"
   ]
  },
  {
   "cell_type": "code",
   "execution_count": 11,
   "metadata": {
    "collapsed": false
   },
   "outputs": [],
   "source": [
    "def makeBirdDict(filename):\n",
    "    #this function opens the data file from Thomas et al adn extract the species and families. \n",
    "    birdDict = {}\n",
    "    fobj = open(filename, \"r\", encoding = \"ISO-8859-15\") #opn the file\n",
    "    all_records = fobj.readlines()[1:] #read the file, made list\n",
    "    for line in all_records:\n",
    "        record_elements = line.split(\",\")\n",
    "        species = record_elements[0]\n",
    "        family = record_elements[2]\n",
    "        birdDict[species] = family \n",
    "    return birdDict\n",
    "#this is the new script we made in class"
   ]
  },
  {
   "cell_type": "code",
   "execution_count": 25,
   "metadata": {
    "collapsed": false
   },
   "outputs": [
    {
     "name": "stdout",
     "output_type": "stream",
     "text": [
      "Abeillia_abeillei Trochilidae\n"
     ]
    }
   ],
   "source": [
    "thomas_birds = makeBirdDict(\"/home/eeb177-student/Desktop/eeb-177/homework/new.nature.csv\")\n",
    "species = list(thomas_birds.keys())\n",
    "species.sort()\n",
    "first_species = species[1]\n",
    "first_fam = thomas_birds[first_species]\n",
    "print(first_species, first_fam) #same thing as code in line 24\n",
    "#species\n",
    "#this will sort the data. "
   ]
  },
  {
   "cell_type": "code",
   "execution_count": 23,
   "metadata": {
    "collapsed": false
   },
   "outputs": [
    {
     "data": {
      "text/plain": [
       "'Abeillia_abeillei'"
      ]
     },
     "execution_count": 23,
     "metadata": {},
     "output_type": "execute_result"
    }
   ],
   "source": [
    "thomas_birds = makeBirdDict(\"/home/eeb177-student/Desktop/eeb-177/homework/new.nature.csv\")#calls function and creates dictionary\n",
    "species = list(thomas_birds.keys()) # makes a list of the species\n",
    "species.sort() #sorts the list\n",
    "species[1] #calls a specific place in the list (this is the first species)"
   ]
  },
  {
   "cell_type": "code",
   "execution_count": 24,
   "metadata": {
    "collapsed": false
   },
   "outputs": [
    {
     "name": "stdout",
     "output_type": "stream",
     "text": [
      "family of Abeillia_abeillei is Trochilidae\n"
     ]
    }
   ],
   "source": [
    "print(\"family of \" + species[1] + \" is \" +thomas_birds[species[1]]) #gets the family of the second species in the list"
   ]
  },
  {
   "cell_type": "code",
   "execution_count": 28,
   "metadata": {
    "collapsed": false
   },
   "outputs": [],
   "source": [
    "for species in thomas_birds.keys():\n",
    "    #get the family of the species\n",
    "    fam = thomas_birds[species]\n",
    "    #print(species, fam)\n",
    "    #this passes the keys through the dictionary and gets the values"
   ]
  },
  {
   "cell_type": "code",
   "execution_count": 31,
   "metadata": {
    "collapsed": false
   },
   "outputs": [
    {
     "ename": "SyntaxError",
     "evalue": "unexpected EOF while parsing (<ipython-input-31-a31870d54f13>, line 3)",
     "output_type": "error",
     "traceback": [
      "\u001b[0;36m  File \u001b[0;32m\"<ipython-input-31-a31870d54f13>\"\u001b[0;36m, line \u001b[0;32m3\u001b[0m\n\u001b[0;31m    #prints keys\u001b[0m\n\u001b[0m                ^\u001b[0m\n\u001b[0;31mSyntaxError\u001b[0m\u001b[0;31m:\u001b[0m unexpected EOF while parsing\n"
     ]
    }
   ],
   "source": [
    "for item in thomas_birds:\n",
    "    #print(item)\n",
    "    #prints keys"
   ]
  },
  {
   "cell_type": "code",
   "execution_count": 33,
   "metadata": {
    "collapsed": false
   },
   "outputs": [
    {
     "ename": "SyntaxError",
     "evalue": "unexpected EOF while parsing (<ipython-input-33-4a4464b918b7>, line 2)",
     "output_type": "error",
     "traceback": [
      "\u001b[0;36m  File \u001b[0;32m\"<ipython-input-33-4a4464b918b7>\"\u001b[0;36m, line \u001b[0;32m2\u001b[0m\n\u001b[0;31m    #print(pair)\u001b[0m\n\u001b[0m                ^\u001b[0m\n\u001b[0;31mSyntaxError\u001b[0m\u001b[0;31m:\u001b[0m unexpected EOF while parsing\n"
     ]
    }
   ],
   "source": [
    "for pair in thomas_birds.items():\n",
    "    #print(pair)\n",
    "    #prints the key/value pairs of the dictionary"
   ]
  },
  {
   "cell_type": "code",
   "execution_count": 35,
   "metadata": {
    "collapsed": false
   },
   "outputs": [],
   "source": [
    "def outOfOrder(number, pet):\n",
    "    print(\"I own {} {}s\".format(number, pet))"
   ]
  },
  {
   "cell_type": "code",
   "execution_count": 38,
   "metadata": {
    "collapsed": false
   },
   "outputs": [
    {
     "name": "stdout",
     "output_type": "stream",
     "text": [
      "I own 3 dogs\n",
      "I own dog 3s\n"
     ]
    }
   ],
   "source": [
    "outOfOrder(3, \"dog\") \n",
    "outOfOrder(\"dog\", 3)"
   ]
  },
  {
   "cell_type": "code",
   "execution_count": 39,
   "metadata": {
    "collapsed": false
   },
   "outputs": [
    {
     "name": "stdout",
     "output_type": "stream",
     "text": [
      "I own 3 dogs\n"
     ]
    }
   ],
   "source": [
    "outOfOrder(number=3, pet=\"dog\")"
   ]
  },
  {
   "cell_type": "code",
   "execution_count": 40,
   "metadata": {
    "collapsed": false
   },
   "outputs": [
    {
     "name": "stdout",
     "output_type": "stream",
     "text": [
      "I own 3 dogs\n"
     ]
    }
   ],
   "source": [
    "outOfOrder(pet=\"dog\", number=3)"
   ]
  },
  {
   "cell_type": "code",
   "execution_count": null,
   "metadata": {
    "collapsed": true
   },
   "outputs": [],
   "source": [
    "seq = \"ATTTGTCTGGGTC\"\n",
    "def get_at_content(dna, sig_figs=2):\n",
    "    length=len(dna)\n",
    "    a_count = dna.upper().count('A')"
   ]
  }
 ],
 "metadata": {
  "anaconda-cloud": {},
  "kernelspec": {
   "display_name": "Python [conda root]",
   "language": "python",
   "name": "conda-root-py"
  },
  "language_info": {
   "codemirror_mode": {
    "name": "ipython",
    "version": 3
   },
   "file_extension": ".py",
   "mimetype": "text/x-python",
   "name": "python",
   "nbconvert_exporter": "python",
   "pygments_lexer": "ipython3",
   "version": "3.5.2"
  }
 },
 "nbformat": 4,
 "nbformat_minor": 2
}
