{
 "cells": [
  {
   "cell_type": "markdown",
   "metadata": {},
   "source": [
    "# Lightning Presentations"
   ]
  },
  {
   "cell_type": "markdown",
   "metadata": {},
   "source": [
    "### Schedule\n",
    "\n",
    "09:30 Aditya Kantawala\n",
    "09:34 Justin Shieh\n",
    "09:38 Sarah Kim\n",
    "09:42 Christina Zhou\n",
    "09:46 Gayane Hovsepyan\n",
    "09:50 Roxana Nojoumi\n",
    "09:54 Cooper Kass\n",
    "09:58 Jeffrey Lee\n",
    "10:02 Laura Trejo\n",
    "10:06 Jin Kim\n",
    "10:10 Marina Salama\n",
    "10:14 Erin Solis\n",
    "10:18 Sean Mathew\n",
    "10:22 Tiffany Dang"
   ]
  },
  {
   "cell_type": "markdown",
   "metadata": {},
   "source": [
    "### Aditya Kantawala\n",
    "-dinosaurs\n",
    "1. How are you going to change your graphs to reflect the mas extinctions and weather disasters?"
   ]
  },
  {
   "cell_type": "markdown",
   "metadata": {},
   "source": [
    "### Justin Shieh\n",
    "-cetacea\n",
    "1. How does longevity correlate to brain size?"
   ]
  },
  {
   "cell_type": "markdown",
   "metadata": {},
   "source": [
    "### Sarah Kim\n",
    "-Canis\n",
    "1. Do you think that Canis lupus is still the most predominate species in the family? Or has this shifted more towards dogs?"
   ]
  },
  {
   "cell_type": "markdown",
   "metadata": {},
   "source": [
    "### Christina Zhou\n",
    "-bats\n",
    "1. How do you think they have maintained their species richness over time?"
   ]
  },
  {
   "cell_type": "markdown",
   "metadata": {},
   "source": [
    "### Gayane Hovsepyan\n",
    "-autism\n",
    "1. What is the main connection between parental age and age of diagnosis of the child?"
   ]
  },
  {
   "cell_type": "markdown",
   "metadata": {},
   "source": [
    "### Roxana Nojoumi\n",
    "-horses\n",
    "1. What was the significance of the teeth measurement data?"
   ]
  },
  {
   "cell_type": "markdown",
   "metadata": {},
   "source": [
    "### Cooper Kass\n",
    "-seagrass\n",
    "1. Do you know how the seagrass could be changing the environments they invade?"
   ]
  },
  {
   "cell_type": "markdown",
   "metadata": {},
   "source": [
    "### Jeffrey Lee\n",
    "-canis\n",
    "1. Did you find data that supports your premise that only one subfamily still exists"
   ]
  },
  {
   "cell_type": "markdown",
   "metadata": {},
   "source": [
    "### Laura Trejo\n",
    "-neotropical birds\n",
    "1. Why do you think they are now only restricted to tropical regions?"
   ]
  },
  {
   "cell_type": "markdown",
   "metadata": {},
   "source": [
    "### Jin Kim\n",
    "-birds\n",
    "1. Which are the two species with the longest ranges and why are they situated where they are?"
   ]
  },
  {
   "cell_type": "markdown",
   "metadata": {},
   "source": [
    "### Marina Salama\n",
    "-anura\n",
    "1. Did you find that a high extinction rate for frogs or is it fairly constant over time?"
   ]
  },
  {
   "cell_type": "markdown",
   "metadata": {},
   "source": [
    "### Erin Solis\n",
    "\n",
    "This is my presentation!"
   ]
  },
  {
   "cell_type": "markdown",
   "metadata": {},
   "source": [
    "### Sean Matthew\n",
    "-felidae\n",
    "1. Did you find that there was a higher drop in extinction "
   ]
  },
  {
   "cell_type": "markdown",
   "metadata": {},
   "source": [
    "### Tiffany Dang\n",
    "-mustelidae\n",
    "1. Why do you think that there is a huge loss of species diversity in recent times"
   ]
  },
  {
   "cell_type": "code",
   "execution_count": null,
   "metadata": {
    "collapsed": true
   },
   "outputs": [],
   "source": []
  }
 ],
 "metadata": {
  "anaconda-cloud": {},
  "kernelspec": {
   "display_name": "Python [conda root]",
   "language": "python",
   "name": "conda-root-py"
  },
  "language_info": {
   "codemirror_mode": {
    "name": "ipython",
    "version": 3
   },
   "file_extension": ".py",
   "mimetype": "text/x-python",
   "name": "python",
   "nbconvert_exporter": "python",
   "pygments_lexer": "ipython3",
   "version": "3.5.2"
  }
 },
 "nbformat": 4,
 "nbformat_minor": 2
}
