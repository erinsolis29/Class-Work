{
 "cells": [
  {
   "cell_type": "code",
   "execution_count": 2,
   "metadata": {
    "collapsed": false
   },
   "outputs": [
    {
     "name": "stdout",
     "output_type": "stream",
     "text": [
      "Homo is an ape\n",
      "Pan is an ape\n",
      "Gorilla is an ape\n"
     ]
    }
   ],
   "source": [
    "apes = [\"Homo\", \"Pan\", \"Gorilla\"]\n",
    "\n",
    "for name in apes:\n",
    "    print(name + \" is an ape\")"
   ]
  },
  {
   "cell_type": "code",
   "execution_count": 3,
   "metadata": {
    "collapsed": false
   },
   "outputs": [
    {
     "name": "stdout",
     "output_type": "stream",
     "text": [
      "3\n",
      "4\n",
      "5\n",
      "6\n",
      "7\n"
     ]
    }
   ],
   "source": [
    "for number in range(3, 8):\n",
    "    print(number)"
   ]
  },
  {
   "cell_type": "code",
   "execution_count": 4,
   "metadata": {
    "collapsed": false
   },
   "outputs": [
    {
     "name": "stdout",
     "output_type": "stream",
     "text": [
      "2\n",
      "6\n",
      "10\n"
     ]
    }
   ],
   "source": [
    "for number in range(2, 14, 4):\n",
    "    print(number)"
   ]
  },
  {
   "cell_type": "code",
   "execution_count": 6,
   "metadata": {
    "collapsed": false
   },
   "outputs": [
    {
     "name": "stdout",
     "output_type": "stream",
     "text": [
      "1\n",
      "2\n",
      "3\n",
      "4\n",
      "5\n",
      "6\n",
      "7\n",
      "8\n",
      "9\n"
     ]
    }
   ],
   "source": [
    "count = 1\n",
    "while count<10:\n",
    "    print(count)\n",
    "    count = count + 1"
   ]
  },
  {
   "cell_type": "markdown",
   "metadata": {},
   "source": [
    "## Class Challenge Step 1 - partner = Tiffany\n",
    "I used wget to download the first data set\n",
    "\n",
    "```\n",
    "cd ~/Desktop/eeb-177/Class-Work\n",
    "wget www.nature.com/nature/journal/vaop/ncurrent/source_data/nature21074-f1.csv\n",
    "wget http://www.birds.cornell.edu/clementschecklist/wp-content/uploads/2013/03/eBird_Taxonomy_v2016_9Aug2016.csv\n",
    "```\n",
    "\n",
    "## There is a problem with the end of line characters. I saved the original files by replacing /\\r with \\n\n",
    "\n",
    "unique families: 194\n",
    " ```\n",
    "  tail -n +4 formatted.nature.csv | cut -d \",\" -f +3 | sort | uniq | wc -l\n",
    " ``` "
   ]
  },
  {
   "cell_type": "code",
   "execution_count": null,
   "metadata": {
    "collapsed": true
   },
   "outputs": [],
   "source": []
  }
 ],
 "metadata": {
  "anaconda-cloud": {},
  "kernelspec": {
   "display_name": "Python [conda root]",
   "language": "python",
   "name": "conda-root-py"
  },
  "language_info": {
   "codemirror_mode": {
    "name": "ipython",
    "version": 3
   },
   "file_extension": ".py",
   "mimetype": "text/x-python",
   "name": "python",
   "nbconvert_exporter": "python",
   "pygments_lexer": "ipython3",
   "version": "3.5.2"
  }
 },
 "nbformat": 4,
 "nbformat_minor": 2
}
