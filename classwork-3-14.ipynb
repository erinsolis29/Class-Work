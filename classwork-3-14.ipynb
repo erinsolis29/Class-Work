{
 "cells": [
  {
   "cell_type": "markdown",
   "metadata": {},
   "source": [
    "## Lighting Talk Schedule\n",
    "\n",
    "09:30 Kelsey Jiang\n",
    "09:34 Dominique Castro\n",
    "09:38 Linna Sun\n",
    "09:42 Ashen Parikh\n",
    "09:46 Matthew Muia\n",
    "09:50 Antonella Gonzalez\n",
    "09:54 Yee Chau\n",
    "09:58 Kristen Lee\n",
    "10:02 Madison Downing\n",
    "10:06 Youstina Salama\n",
    "10:10 Jeremy Wadowski\n",
    "10:14 Mehdi Nojoumi\n",
    "10:18 Junghoon Kim\n",
    "10:22 Dustin Wong\n",
    "10:26 Hyein Kil"
   ]
  },
  {
   "cell_type": "markdown",
   "metadata": {},
   "source": [
    "### Kelsey Jiang\n",
    "-sharks\n",
    "1. Did you actually see that we are moving towards another mass extinction and are these changs reflected in your data?"
   ]
  },
  {
   "cell_type": "markdown",
   "metadata": {},
   "source": [
    "### Dominique Castro\n",
    "-dogs\n",
    "1. Did you find any interesting trends that you weren't expecting to find and how is that important to current dog breed speciation?"
   ]
  },
  {
   "cell_type": "markdown",
   "metadata": {},
   "source": [
    "### Linna Sun\n",
    "-proboscidea (elephant and things as such)\n",
    "1. What are some of the reasons that there are only 3 surviving species today?"
   ]
  },
  {
   "cell_type": "markdown",
   "metadata": {},
   "source": [
    "### Ashen Parikh\n",
    "-comparing cooperation and decision times b/t india and america\n",
    "1. Did you find that there were certain countries more willing to cooperate?"
   ]
  },
  {
   "cell_type": "markdown",
   "metadata": {},
   "source": [
    "### Matthew Muia\n",
    "-California Oak\n",
    "1. What are some possible reasons why the Chico species are growing more than the others?"
   ]
  },
  {
   "cell_type": "markdown",
   "metadata": {},
   "source": [
    "### Antonella Gonzalez\n",
    "-aligators\n",
    "1. Have there been any mass extinctions that would have caused such a huge loss of diversity?"
   ]
  },
  {
   "cell_type": "markdown",
   "metadata": {},
   "source": [
    "### Yee Chau\n",
    "-squamata\n",
    "1. How is the species currently adapting to our environment and does it seem as if this species is on its way to another mass extinction?"
   ]
  },
  {
   "cell_type": "markdown",
   "metadata": {},
   "source": [
    "### Kristen Lee\n",
    "-pilosa\n",
    "1. Why was there a huge migraiton up towards the North and are they still seen there today?"
   ]
  },
  {
   "cell_type": "markdown",
   "metadata": {},
   "source": [
    "### Madison Downing\n",
    "-comparing mammals and birds\n",
    "1. Did you find any common trends between the birds and the mammals?"
   ]
  },
  {
   "cell_type": "markdown",
   "metadata": {},
   "source": [
    "### Youstina Salama\n",
    "-Haplorhini\n",
    "1. What type of results can you draw from the graph reproduced from the paleodb data?"
   ]
  },
  {
   "cell_type": "markdown",
   "metadata": {},
   "source": [
    "### Jeremy Wadowski\n",
    "-Heart rate acquisition\n",
    "1. Do you find that most people are under their metabolic rate and have room for improvement?"
   ]
  },
  {
   "cell_type": "markdown",
   "metadata": {},
   "source": [
    "### Mehdi Nojoumi\n",
    "-atherosclerosis in birds\n",
    "1. Do you think there are certain genetic predispositions that make certain birds more likely to contract the disease?"
   ]
  },
  {
   "cell_type": "markdown",
   "metadata": {},
   "source": [
    "### Junghoon Kim\n",
    "-circadian rhythm\n",
    "1. How did you think the wavelengths were going to affect the activity of the cockroaches?"
   ]
  },
  {
   "cell_type": "markdown",
   "metadata": {},
   "source": [
    "### Dustin Wong\n",
    "-Feliformia\n",
    "1. How has the speciation changed over time to the current time period?"
   ]
  },
  {
   "cell_type": "markdown",
   "metadata": {},
   "source": [
    "### Hyein Kil\n",
    "-asian bird vs american bird with influenza strain (ducks)\n",
    "1. Why do you think the american bird didn't contract the flu?"
   ]
  },
  {
   "cell_type": "code",
   "execution_count": null,
   "metadata": {
    "collapsed": true
   },
   "outputs": [],
   "source": []
  }
 ],
 "metadata": {
  "kernelspec": {
   "display_name": "Python [conda root]",
   "language": "python",
   "name": "conda-root-py"
  },
  "language_info": {
   "codemirror_mode": {
    "name": "ipython",
    "version": 3
   },
   "file_extension": ".py",
   "mimetype": "text/x-python",
   "name": "python",
   "nbconvert_exporter": "python",
   "pygments_lexer": "ipython3",
   "version": "3.5.2"
  }
 },
 "nbformat": 4,
 "nbformat_minor": 2
}
