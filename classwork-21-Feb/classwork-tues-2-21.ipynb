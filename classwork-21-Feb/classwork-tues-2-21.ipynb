{
 "cells": [
  {
   "cell_type": "markdown",
   "metadata": {},
   "source": [
    "## Guided Exploration of the Data\n",
    "\n",
    "The rows in cocoli.txt represent a specific tree species. Measurements area also included for each tree. Each is a single record\n",
    "The rows in cocolisp.txt lists the species, genus, and species code for all of the species found within the dataset. \n"
   ]
  },
  {
   "cell_type": "markdown",
   "metadata": {},
   "source": [
    "## Individual 11\n",
    "\n",
    "The entry in multi2 is the number of stems the plant has at 1.3m. \n",
    "The entry in dbh2 is the diameter and breast height. \n",
    "We can find the genus and species of the plant by looking up the species code in cocolisp.txt. \n",
    "The genus and species is Calycophyllum candidissimum.\n",
    "Individual 000001 kept growing while indiviual 000029 died. "
   ]
  },
  {
   "cell_type": "markdown",
   "metadata": {},
   "source": [
    "## Interesting Questions\n",
    "\n",
    "can track species growth trends over time\n",
    "can see which species are more suitable to the given environment\n",
    "can also see which plots do well with excess water as well as those who do well with less water"
   ]
  },
  {
   "cell_type": "markdown",
   "metadata": {},
   "source": [
    "## Other Questions\n",
    "\n",
    "piper is the most species rich family in the community\n",
    "99 have only 1 species in the genera. \n",
    "127 genera total"
   ]
  },
  {
   "cell_type": "markdown",
   "metadata": {},
   "source": [
    "## Pseudocode\n",
    "\n",
    "we could put all individuals as keys within a dictionary. \n",
    "The growth rate for each individual would be the associated values.(growth rate over 4 years would be the final growth measurement-inital growth measurement/4) \n",
    "after this, we would sort the dictionary numerically to see which individual has the highest yearly growth rate. \n",
    "To see which species this individual belongs to, we would then look up the species code within the cocolisp.txt to find the associated species. "
   ]
  },
  {
   "cell_type": "code",
   "execution_count": null,
   "metadata": {
    "collapsed": true
   },
   "outputs": [],
   "source": []
  }
 ],
 "metadata": {
  "anaconda-cloud": {},
  "kernelspec": {
   "display_name": "Python [conda root]",
   "language": "python",
   "name": "conda-root-py"
  },
  "language_info": {
   "codemirror_mode": {
    "name": "ipython",
    "version": 3
   },
   "file_extension": ".py",
   "mimetype": "text/x-python",
   "name": "python",
   "nbconvert_exporter": "python",
   "pygments_lexer": "ipython3",
   "version": "3.5.2"
  }
 },
 "nbformat": 4,
 "nbformat_minor": 2
}
