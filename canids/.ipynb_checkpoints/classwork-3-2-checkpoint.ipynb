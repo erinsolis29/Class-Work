{
 "cells": [
  {
   "cell_type": "markdown",
   "metadata": {},
   "source": [
    "## To make a csv file with genus, species, oldest occurrence, newest occurrence\n"
   ]
  },
  {
   "cell_type": "code",
   "execution_count": 10,
   "metadata": {
    "collapsed": true
   },
   "outputs": [],
   "source": [
    "# open the file\n",
    "infile = \"clean-pbdb.csv\"\n",
    "with open(infile, 'r') as ff:\n",
    "    canid_recs = ff.readlines()[1:]"
   ]
  },
  {
   "cell_type": "code",
   "execution_count": 13,
   "metadata": {
    "collapsed": false
   },
   "outputs": [],
   "source": [
    "#use defaultdict\n",
    "from collections import defaultdict\n",
    "\n",
    "species_ranges = defaultdict(list)\n",
    "\n",
    "\n",
    "# make a dictionary\n",
    "for line in canid_recs:\n",
    "    species = line.split(\",\")[5]\n",
    "    minage = float(line.split('\",\"')[10])\n",
    "    maxage = float(line.split('\",\"')[11])\n",
    "    meanage = (minage + maxage) / 2\n",
    "    \n",
    "    species_ranges[species].append(meanage) # add species as keys and mean ages as elements to the list of ages\n",
    "    #print(meanage)"
   ]
  },
  {
   "cell_type": "markdown",
   "metadata": {},
   "source": [
    "## get the oldest and youngest ages of fossils for each species in species_ranges"
   ]
  },
  {
   "cell_type": "code",
   "execution_count": 17,
   "metadata": {
    "collapsed": false
   },
   "outputs": [],
   "source": [
    "output = open(\"canid-raenges.csv\", \"w\")\n",
    "\n",
    "#sort the keys\n",
    "for key in species_ranges.keys():\n",
    "    ages = species_ranges[key]\n",
    "    minage = min(ages)\n",
    "    maxage = max(ages)\n",
    "    genus = key.split(\" \")[0]\n",
    "    species = key\n",
    "    #print(genus, key, minage, maxage)\n",
    "    outline = \"{},{},{},{}\\n\".format(genus, key, minage, maxage)\n",
    "    \n",
    "    output.write(outline)"
   ]
  },
  {
   "cell_type": "code",
   "execution_count": null,
   "metadata": {
    "collapsed": true
   },
   "outputs": [],
   "source": []
  }
 ],
 "metadata": {
  "anaconda-cloud": {},
  "kernelspec": {
   "display_name": "Python [conda root]",
   "language": "python",
   "name": "conda-root-py"
  },
  "language_info": {
   "codemirror_mode": {
    "name": "ipython",
    "version": 3
   },
   "file_extension": ".py",
   "mimetype": "text/x-python",
   "name": "python",
   "nbconvert_exporter": "python",
   "pygments_lexer": "ipython3",
   "version": "3.5.2"
  }
 },
 "nbformat": 4,
 "nbformat_minor": 2
}
